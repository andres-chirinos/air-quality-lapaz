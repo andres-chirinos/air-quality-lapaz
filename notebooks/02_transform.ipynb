{
 "cells": [
  {
   "cell_type": "code",
   "execution_count": null,
   "id": "57ff8254",
   "metadata": {},
   "outputs": [],
   "source": [
    "# Install dependencies\n",
    "%pip install --upgrade pip \n",
    "%pip install pandas pyarrow fastparquet"
   ]
  },
  {
   "cell_type": "code",
   "execution_count": null,
   "id": "4f94ab01",
   "metadata": {},
   "outputs": [],
   "source": [
    "import pandas as pd\n",
    "import json\n",
    "from datetime import *"
   ]
  },
  {
   "cell_type": "code",
   "execution_count": null,
   "id": "3639ba22",
   "metadata": {
    "tags": [
     "parameters"
    ]
   },
   "outputs": [],
   "source": [
    "data_dir = \"../data\""
   ]
  },
  {
   "cell_type": "code",
   "execution_count": null,
   "id": "9cfaa609",
   "metadata": {},
   "outputs": [],
   "source": [
    "dfs = []"
   ]
  },
  {
   "cell_type": "code",
   "execution_count": null,
   "id": "4b6b2edb",
   "metadata": {},
   "outputs": [],
   "source": [
    "for file in [\"postgres2_datos-diarios-antiguo_999999999.json\",\"postgres2_datos-diarios-nuevo-2024_999999999.json\",\"postgres2_ultimas-x-horas-antiguo_9999999.json\",\"postgres2_ultimas-x-horas-nuevo_9999999.json\"]:\n",
    "    df = pd.read_json(f\"{data_dir}/{file}\")\n",
    "    metadata = f\"metadata-{file}\"\n",
    "    metadata = json.load(open(f\"{data_dir}/{metadata}\"))\n",
    "    df[\"source\"] = metadata[\"source\"]\n",
    "    df[\"fecha_hora_extraccion\"] = metadata[\"timestamp\"]\n",
    "\n",
    "    dfs.append(df)"
   ]
  },
  {
   "cell_type": "code",
   "execution_count": null,
   "id": "4f3ab8e5",
   "metadata": {},
   "outputs": [],
   "source": [
    "for file in [\"postgres2_datos.json\"]:\n",
    "    df = pd.read_json(f\"{data_dir}/{file}\").T\n",
    "    df = df.reset_index()\n",
    "    df.rename(columns={\"index\": \"estacion\"}, inplace=True)\n",
    "\n",
    "    metadata = f\"metadata-{file}\"\n",
    "    metadata = json.load(open(f\"{data_dir}/{metadata}\"))\n",
    "    df[\"source\"] = metadata[\"source\"]\n",
    "    df[\"fecha_hora_extraccion\"] = metadata[\"timestamp\"]\n",
    "\n",
    "    dfs.append(df)"
   ]
  },
  {
   "cell_type": "code",
   "execution_count": null,
   "id": "f9b63582",
   "metadata": {},
   "outputs": [],
   "source": [
    "df = pd.concat(dfs, ignore_index=True)"
   ]
  },
  {
   "cell_type": "code",
   "execution_count": null,
   "id": "d06c4a0e",
   "metadata": {},
   "outputs": [],
   "source": [
    "df = df.drop(columns=[\"fecha_formateada\",\"hora_formateada\"])"
   ]
  },
  {
   "cell_type": "code",
   "execution_count": null,
   "id": "a2841b09",
   "metadata": {},
   "outputs": [],
   "source": [
    "def obtener_estacion(source):\n",
    "    if \"antiguo\" in source:\n",
    "        return \"antiguo\"\n",
    "    elif \"nuevo\" in source:\n",
    "        return \"nuevo\""
   ]
  },
  {
   "cell_type": "code",
   "execution_count": null,
   "id": "aeaead7b",
   "metadata": {},
   "outputs": [],
   "source": [
    "df[\"estacion\"] = df[[\"source\", \"estacion\"]].apply(lambda x: x[\"estacion\"] if pd.notnull(x[\"estacion\"]) else obtener_estacion(x[\"source\"]), axis=1)"
   ]
  },
  {
   "cell_type": "code",
   "execution_count": null,
   "id": "96f39ead",
   "metadata": {},
   "outputs": [],
   "source": [
    "def obtener_modalidad(source):\n",
    "    if \"horas\" in source:\n",
    "        return \"horas\"\n",
    "    elif \"diarios\" in source:\n",
    "        return \"diarios\"\n",
    "    return \"datos\""
   ]
  },
  {
   "cell_type": "code",
   "execution_count": null,
   "id": "00a22f2b",
   "metadata": {},
   "outputs": [],
   "source": [
    "df[\"modalidad\"] = df[\"source\"].apply(obtener_modalidad)"
   ]
  },
  {
   "cell_type": "code",
   "execution_count": null,
   "id": "acf303a1",
   "metadata": {},
   "outputs": [],
   "source": [
    "df[\"id_parametro\"] = df[\"id_parametro\"].astype(str) + \"_\" + df[\"estacion\"]"
   ]
  },
  {
   "cell_type": "code",
   "execution_count": null,
   "id": "40cd947d",
   "metadata": {},
   "outputs": [],
   "source": [
    "columns = {\n",
    "    \"id_parametro\": str,\n",
    "    \"valor_original\": float,\n",
    "    \"valor_ica\": float,\n",
    "    \"promedio_24hrs\": float,\n",
    "    \"valor_calculado_x2\": float,\n",
    "    \"valor_medido\": float,\n",
    "    \"observaciones\": str,\n",
    "    \"modalidad\": str,\n",
    "    \"estacion\": str,\n",
    "    \"fecha_hora_extraccion\": lambda x: (\n",
    "        datetime.fromisoformat(x.replace(\"Z\", \"+00:00\"))\n",
    "        if pd.notnull(x) and isinstance(x, str)\n",
    "        else x\n",
    "    ),\n",
    "    \"fecha_hora_registro\": lambda x: (\n",
    "        pd.to_datetime(x, utc=True)\n",
    "        if pd.notnull(x) and isinstance(x, str)\n",
    "        else x\n",
    "    ),\n",
    "    \"fecha_hora_calculo\": lambda x: (\n",
    "        datetime.fromisoformat(x.replace(\"Z\", \"+00:00\"))\n",
    "        if pd.notnull(x) and isinstance(x, str)\n",
    "        else x\n",
    "    ),\n",
    "}"
   ]
  },
  {
   "cell_type": "code",
   "execution_count": null,
   "id": "d766301a",
   "metadata": {},
   "outputs": [],
   "source": [
    "for col_name, conv in columns.items():\n",
    "    if callable(conv) and not isinstance(conv, type):\n",
    "        df[col_name] = df[col_name].apply(conv)\n",
    "    else:\n",
    "        df[col_name] = df[col_name].astype(conv)"
   ]
  },
  {
   "cell_type": "code",
   "execution_count": null,
   "id": "12f68c89",
   "metadata": {},
   "outputs": [],
   "source": [
    "df = df[list(columns.keys())]"
   ]
  },
  {
   "cell_type": "code",
   "execution_count": null,
   "id": "fab4f74d",
   "metadata": {},
   "outputs": [],
   "source": [
    "df"
   ]
  },
  {
   "cell_type": "code",
   "execution_count": null,
   "id": "fe0d2840",
   "metadata": {},
   "outputs": [],
   "source": [
    "df.to_parquet(f\"{data_dir}/sensores.parquet\", index=False)"
   ]
  }
 ],
 "metadata": {
  "kernelspec": {
   "display_name": ".venv",
   "language": "python",
   "name": "python3"
  },
  "language_info": {
   "codemirror_mode": {
    "name": "ipython",
    "version": 3
   },
   "file_extension": ".py",
   "mimetype": "text/x-python",
   "name": "python",
   "nbconvert_exporter": "python",
   "pygments_lexer": "ipython3",
   "version": "3.10.12"
  }
 },
 "nbformat": 4,
 "nbformat_minor": 5
}
