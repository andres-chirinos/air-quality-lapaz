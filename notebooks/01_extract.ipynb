{
 "cells": [
  {
   "cell_type": "code",
   "execution_count": 1,
   "id": "2820b868",
   "metadata": {},
   "outputs": [
    {
     "name": "stdout",
     "output_type": "stream",
     "text": [
      "Requirement already satisfied: pip in /home/andreschirinos/Proyectos/air-quality-lapaz/.venv/lib/python3.10/site-packages (25.1.1)\n",
      "Note: you may need to restart the kernel to use updated packages.\n",
      "Requirement already satisfied: pandas in /home/andreschirinos/Proyectos/air-quality-lapaz/.venv/lib/python3.10/site-packages (2.3.0)\n",
      "Requirement already satisfied: requests in /home/andreschirinos/Proyectos/air-quality-lapaz/.venv/lib/python3.10/site-packages (2.32.4)\n",
      "Requirement already satisfied: numpy>=1.22.4 in /home/andreschirinos/Proyectos/air-quality-lapaz/.venv/lib/python3.10/site-packages (from pandas) (2.2.6)\n",
      "Requirement already satisfied: python-dateutil>=2.8.2 in /home/andreschirinos/Proyectos/air-quality-lapaz/.venv/lib/python3.10/site-packages (from pandas) (2.9.0.post0)\n",
      "Requirement already satisfied: pytz>=2020.1 in /home/andreschirinos/Proyectos/air-quality-lapaz/.venv/lib/python3.10/site-packages (from pandas) (2025.2)\n",
      "Requirement already satisfied: tzdata>=2022.7 in /home/andreschirinos/Proyectos/air-quality-lapaz/.venv/lib/python3.10/site-packages (from pandas) (2025.2)\n",
      "Requirement already satisfied: charset_normalizer<4,>=2 in /home/andreschirinos/Proyectos/air-quality-lapaz/.venv/lib/python3.10/site-packages (from requests) (3.4.2)\n",
      "Requirement already satisfied: idna<4,>=2.5 in /home/andreschirinos/Proyectos/air-quality-lapaz/.venv/lib/python3.10/site-packages (from requests) (3.10)\n",
      "Requirement already satisfied: urllib3<3,>=1.21.1 in /home/andreschirinos/Proyectos/air-quality-lapaz/.venv/lib/python3.10/site-packages (from requests) (2.4.0)\n",
      "Requirement already satisfied: certifi>=2017.4.17 in /home/andreschirinos/Proyectos/air-quality-lapaz/.venv/lib/python3.10/site-packages (from requests) (2025.6.15)\n",
      "Requirement already satisfied: six>=1.5 in /home/andreschirinos/Proyectos/air-quality-lapaz/.venv/lib/python3.10/site-packages (from python-dateutil>=2.8.2->pandas) (1.17.0)\n",
      "Note: you may need to restart the kernel to use updated packages.\n"
     ]
    }
   ],
   "source": [
    "# Install dependencies\n",
    "%pip install --upgrade pip \n",
    "%pip install pandas requests"
   ]
  },
  {
   "cell_type": "code",
   "execution_count": 2,
   "id": "a4bf5fd6",
   "metadata": {},
   "outputs": [],
   "source": [
    "import pandas as pd\n",
    "import requests\n",
    "import json\n",
    "import os\n",
    "import hashlib\n",
    "import datetime\n",
    "from urllib.parse import urlparse"
   ]
  },
  {
   "cell_type": "code",
   "execution_count": 3,
   "id": "25728719",
   "metadata": {
    "tags": [
     "parameters"
    ]
   },
   "outputs": [],
   "source": [
    "input_url = [\"http://131.0.1.19:3002/postgres2/ultimas-x-horas-nuevo/24\",\"http://131.0.1.19:3002/postgres2/datos\",\"http://131.0.1.19:3002/postgres2/ultimas-x-horas-antiguo/24\"]\n",
    "post_url = [\"http://131.0.1.19:3002/postgres2/datos-diarios-nuevo-2024/7\",\"http://131.0.1.19:3002/postgres2/datos-diarios-antiguo/7\"]\n",
    "data_dir = \"../data\""
   ]
  },
  {
   "cell_type": "code",
   "execution_count": 5,
   "id": "efc0f7fd",
   "metadata": {},
   "outputs": [
    {
     "name": "stdout",
     "output_type": "stream",
     "text": [
      "http://131.0.1.19:3002/ respondió correctamente.\n"
     ]
    }
   ],
   "source": [
    "import subprocess\n",
    "\n",
    "url = \"http://131.0.1.19:3002/\"\n",
    "try:\n",
    "    # Usar '-I' para obtener solo el encabezado y verificar la conexión\n",
    "    result = subprocess.run([\"curl\", \"-I\", url],\n",
    "                            stdout=subprocess.PIPE,\n",
    "                            stderr=subprocess.PIPE,\n",
    "                            timeout=5)\n",
    "    \n",
    "    if result.returncode != 0:\n",
    "        print(f\"No se pudo alcanzar {url}. Saltando todo.\")\n",
    "        raise SystemExit\n",
    "    else:\n",
    "        print(f\"{url} respondió correctamente.\")\n",
    "except Exception as e:\n",
    "    print(f\"Error al hacer curl a {url}: {e}. Saltando todo.\")\n",
    "    raise SystemExit\n"
   ]
  },
  {
   "cell_type": "code",
   "execution_count": null,
   "id": "7c7c6ae0",
   "metadata": {},
   "outputs": [],
   "source": [
    "def save_data(json_data, filename):\n",
    "    with open(os.path.join(data_dir, filename), \"w\") as f:\n",
    "        json.dump(json_data, f, ensure_ascii=False, indent=4)\n",
    "    print(f\"Data saved to {filename}.\")"
   ]
  },
  {
   "cell_type": "code",
   "execution_count": null,
   "id": "d39e1397",
   "metadata": {},
   "outputs": [],
   "source": [
    "def extract_data(url, method='GET'):\n",
    "    if method.upper() == 'POST':\n",
    "        response = requests.post(url, timeout=100)\n",
    "    else:\n",
    "        response = requests.get(url, timeout=100)\n",
    "    \n",
    "    if response.status_code in [200, 201]:\n",
    "        data = response.json()\n",
    "        # Get the URL path without the domain, remove leading/trailing '/'\n",
    "        path = urlparse(url).path.strip('/')\n",
    "        # Replace '/' with '_' to create a valid filename\n",
    "        filename = path.replace('/', '_') + '.json'\n",
    "        save_data(data, filename)\n",
    "\n",
    "        metadata = {\n",
    "            \"source\": url,\n",
    "            \"request_status\": response.status_code,\n",
    "            \"timestamp\": datetime.datetime.now().isoformat(),\n",
    "            \"unix_timestamp\": int(datetime.datetime.now().timestamp()),\n",
    "            \"hash\": hashlib.md5(json.dumps(data).encode(\"utf-8\")).hexdigest()\n",
    "        }\n",
    "\n",
    "        save_data(metadata, f'metadata-{filename}')\n",
    "    else:\n",
    "        print(f\"Failed to extract data from {url}. Status code: {response.status_code}\")"
   ]
  },
  {
   "cell_type": "code",
   "execution_count": null,
   "id": "9e757bf7",
   "metadata": {},
   "outputs": [],
   "source": [
    "for url in input_url:\n",
    "    extract_data(url)"
   ]
  },
  {
   "cell_type": "code",
   "execution_count": null,
   "id": "6379ae6d",
   "metadata": {},
   "outputs": [],
   "source": [
    "for url in post_url:\n",
    "    extract_data(url, method='POST')"
   ]
  }
 ],
 "metadata": {
  "kernelspec": {
   "display_name": ".venv",
   "language": "python",
   "name": "python3"
  },
  "language_info": {
   "codemirror_mode": {
    "name": "ipython",
    "version": 3
   },
   "file_extension": ".py",
   "mimetype": "text/x-python",
   "name": "python",
   "nbconvert_exporter": "python",
   "pygments_lexer": "ipython3",
   "version": "3.10.12"
  }
 },
 "nbformat": 4,
 "nbformat_minor": 5
}
